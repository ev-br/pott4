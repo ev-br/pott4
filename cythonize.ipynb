{
 "cells": [
  {
   "cell_type": "markdown",
   "metadata": {},
   "source": [
    "## Pure Python"
   ]
  },
  {
   "cell_type": "code",
   "execution_count": null,
   "metadata": {
    "ExecuteTime": {
     "end_time": "2020-05-30T18:53:43.008299Z",
     "start_time": "2020-05-30T18:53:41.656637Z"
    }
   },
   "outputs": [],
   "source": [
    "#Uses python3\n",
    "\n",
    "import numpy as np\n",
    "import random as rnd\n",
    "import time\n",
    "import pandas as pd\n",
    "import sys\n",
    "import matplotlib.pyplot as plt"
   ]
  },
  {
   "cell_type": "code",
   "execution_count": 35,
   "metadata": {
    "ExecuteTime": {
     "end_time": "2020-05-30T18:53:43.065807Z",
     "start_time": "2020-05-30T18:53:43.035839Z"
    }
   },
   "outputs": [],
   "source": [
    "def kron(i,j):\n",
    "    \"\"\"Kroneker's symbol\"\"\"\n",
    "    if i==j: return 1\n",
    "    else: return 0\n",
    "\n",
    "def coord(site):\n",
    "    \"\"\"get coordinate i of vector\"\"\"\n",
    "    x = site // L\n",
    "    y = site - x*L\n",
    "    return (x,y)\n",
    "\n",
    "def get(i):\n",
    "    \"\"\"fixin' boundary\"\"\"\n",
    "    if i<0: return i\n",
    "    else: return i % L\n",
    "    \n",
    "def get_neigh():\n",
    "    \"\"\"get neighbour's arr\"\"\"\n",
    "    s = np.arange(L**2).reshape(L,L)\n",
    "    nei = []\n",
    "    for site in range(L*L):\n",
    "        i,j = coord(site)\n",
    "        nei += [s[get(i-1),get(j)],s[get(i),get(j+1)],s[get(i+1),get(j)],s[get(i),get(j-1)]]\n",
    "    return np.array(nei, dtype=np.int32).reshape(L*L,4)\n",
    "\n",
    "#################################################################\n",
    "\n",
    "def gen_state():\n",
    "    \"\"\"generate random start state with lenght L*L and q components\"\"\"\n",
    "    state = np.random.randint(0, q, L*L, dtype=np.int32)\n",
    "    return state\n",
    "\n",
    "################################################################################\n",
    "\n",
    "def calc_e(state):\n",
    "    s = state.reshape(L,L)\n",
    "    e = 0\n",
    "    for i in range(-1,L-1):\n",
    "        for j in range(-1,L-1):\n",
    "            e += kron(s[i,j], s[i+1,j]) # right neighbour\n",
    "            e += kron(s[i,j], s[i,j+1]) # down neighbour\n",
    "    return -e     # e = -J*qi*qj\n",
    "\n",
    "def calc_m(state):\n",
    "    s = state.reshape(L,L)\n",
    "    m_vect = np.array([np.count_nonzero(s == i) for i in range(q)])\n",
    "    return (max(m_vect)*q/L**2-1)/(q-1)  #Numerical revision of the ... two-dimensional 4-state Potts model (15)\n",
    "\n",
    "################################################################################\n",
    "\n",
    "def model_p4(T,N_avg=10,N_mc=10,Relax=10):\n",
    "    \"\"\"Моделируем АТ\"\"\"\n",
    "    E, M = [], []\n",
    "\n",
    "    state = gen_state()\n",
    "    nei = get_neigh()\n",
    "    \n",
    "    #relax $Relax times be4 AVG\n",
    "    for __ in range(Relax):\n",
    "            mc_step(state, nei, T)\n",
    "    #AVG every $N_mc steps\n",
    "    for _ in range(N_avg):\n",
    "        for __ in range(N_mc):\n",
    "            mc_step(state, nei, T)\n",
    "        E += [calc_e(state)]\n",
    "        M += [calc_m(state)]\n",
    "    \n",
    "    return E, M"
   ]
  },
  {
   "cell_type": "markdown",
   "metadata": {},
   "source": [
    "## Cython"
   ]
  },
  {
   "cell_type": "code",
   "execution_count": 1,
   "metadata": {
    "ExecuteTime": {
     "end_time": "2020-06-01T16:53:16.410586Z",
     "start_time": "2020-06-01T16:53:16.403311Z"
    }
   },
   "outputs": [],
   "source": [
    "import cython\n",
    "%load_ext Cython"
   ]
  },
  {
   "cell_type": "code",
   "execution_count": 46,
   "metadata": {
    "ExecuteTime": {
     "end_time": "2020-06-01T19:51:37.365081Z",
     "start_time": "2020-06-01T19:51:32.590744Z"
    }
   },
   "outputs": [],
   "source": [
    "%%cython -a --compile-args=\"-O2\"\n",
    "\n",
    "cimport cython\n",
    "\n",
    "import numpy as np\n",
    "\n",
    "\n",
    "#####################################\n",
    "#### Based off https://numpy.org/doc/1.18/reference/random/extending.html\n",
    "\n",
    "from cpython.pycapsule cimport PyCapsule_IsValid, PyCapsule_GetPointer\n",
    "from numpy.random cimport bitgen_t\n",
    "from numpy.random import PCG64\n",
    "\n",
    "\n",
    "cdef const char *capsule_name = \"BitGenerator\"\n",
    "\n",
    "\n",
    "cdef class RndmWrapper(object):\n",
    "    \"\"\" Random generator wrapper class for use from Cython.\n",
    "    \n",
    "    Intended usage (in Cython):\n",
    "    >>> rndm = RndmWrapper(seed=1234)\n",
    "    >>> rndm.uniform()\n",
    "    \n",
    "    This generates a single random draw, which is identical to\n",
    "    >>> from numpy.random import PCG64, Generator\n",
    "    >>> bitgen = PCG64(seed=1234)\n",
    "    >>> rndm = Generator(bitgen)\n",
    "    >>> rndm.uniform()\n",
    "    \"\"\"\n",
    "\n",
    "    cdef bitgen_t *rng\n",
    "    cdef long seed\n",
    "    cdef object py_gen\n",
    "    cdef double[::1] _buf\n",
    "    cdef Py_ssize_t idx\n",
    "    \n",
    "    def __init__(self, seed=1234, buf_size=4096, bitgen_kind=None):\n",
    "        self.seed = seed\n",
    "        \n",
    "        if bitgen_kind is None:\n",
    "            bitgen_kind = PCG64\n",
    "        self.py_gen = bitgen_kind(seed)\n",
    "\n",
    "        capsule = self.py_gen.capsule\n",
    "        self.rng = <bitgen_t *>PyCapsule_GetPointer(capsule, capsule_name)\n",
    "        \n",
    "        self._buf = np.empty(buf_size, dtype='float64')\n",
    "        self._fill_buffer()\n",
    "    \n",
    "    cdef double _single_uniform(self) nogil:\n",
    "        return self.rng.next_double(self.rng.state)\n",
    "    \n",
    "    @cython.boundscheck(False)\n",
    "    @cython.wraparound(False)\n",
    "    cdef void _fill_buffer(self) nogil:\n",
    "        for i in range(self._buf.shape[0]):\n",
    "            self._buf[i] = self._single_uniform()\n",
    "        self.idx = 0\n",
    " \n",
    "    @cython.boundscheck(False)\n",
    "    @cython.wraparound(False)\n",
    "    cdef double uniform(self) nogil:\n",
    "        if self.idx >= self._buf.shape[0]:\n",
    "            self._fill_buffer()\n",
    "\n",
    "        cdef double value = self._buf[self.idx]\n",
    "        self.idx += 1\n",
    "        return value\n",
    "        \n",
    "    def py_uniform(self):\n",
    "        return self.uniform()\n",
    "\n",
    "#####################################\n",
    "\n",
    "\n",
    "\n",
    "\n",
    "cimport numpy as cnp\n",
    "from numpy cimport npy_intp\n",
    "from libcpp cimport bool\n",
    "from libc.math cimport exp\n",
    "\n",
    "\n",
    "# cook up a generator\n",
    "cdef RndmWrapper rndm = RndmWrapper(1234)\n",
    "\n",
    "\n",
    "@cython.boundscheck(False)\n",
    "cdef int calc_dE_2(npy_intp site, int new_val,\n",
    "                   cnp.int32_t[::1] spins,          # the field\n",
    "                   cnp.int32_t[:, :] neighbors):    # associations: neighbors[site, :] are local neighb sites\n",
    "    \"\"\"Calculate dE: the energy change for spins[site] -> new_val.\"\"\"\n",
    "    \n",
    "    cdef:\n",
    "        int old_val = spins[site]\n",
    "        int this_val\n",
    "        int e0 = 0, e1 = 0\n",
    "        npy_intp site1\n",
    "           \n",
    "    for j in range(4):    # FIXME: named constant D=2, DD = 2*d\n",
    "        site1 = neighbors[site, j]\n",
    "        this_val = spins[site1]\n",
    "        if this_val == old_val:\n",
    "            e1 += 1\n",
    "        elif this_val == new_val:\n",
    "            e0 += 1\n",
    "        else:\n",
    "            continue\n",
    "    \n",
    "    return e1 - e0\n",
    "\n",
    "\n",
    "@cython.cdivision(True)\n",
    "cdef bint mc_choice(int dE, double T):\n",
    "    \"\"\"принимаем или не принимаем переворот спина?\"\"\"\n",
    "    cdef double r\n",
    "    r = exp(-dE/T)\n",
    "    if dE <= 0:\n",
    "        return True\n",
    "    elif rndm.uniform() <= r:\n",
    "        return True\n",
    "    else:\n",
    "        return False\n",
    "\n",
    "\n",
    "@cython.boundscheck(False)\n",
    "cdef void step(cnp.int32_t[::1] spins, cnp.int32_t[:, :] neigh, double T):\n",
    "    \"\"\"крутим 1 спин\"\"\"\n",
    "\n",
    "        \n",
    "    cdef int q, L2, dE, site, new_val\n",
    "    \n",
    "    q = 4\n",
    "    L2 = spins.shape[0]\n",
    "    \n",
    "    site = int(rndm.uniform() * L2)\n",
    "    new_val = int(rndm.uniform() * q)\n",
    "    \n",
    "    dE = calc_dE_2(site, new_val, spins, neigh)\n",
    "    \n",
    "    if mc_choice(dE, T):\n",
    "        spins[site] = new_val\n",
    "     \n",
    "    # NB: spins array is modified in-place => should not return it (python's convention)\n",
    "    #return spins\n",
    "    \n",
    "    \n",
    "def mc_step(cnp.int32_t[::1] spins,\n",
    "            cnp.int32_t[:, :] neighbors,\n",
    "            double T):\n",
    "    \"\"\"perform L*L flips for 1 MC step\"\"\"\n",
    "    \n",
    "    cdef npy_intp num_steps = spins.shape[0]\n",
    "\n",
    "    for _ in range(num_steps):\n",
    "        step(spins, neighbors, T)"
   ]
  },
  {
   "cell_type": "code",
   "execution_count": null,
   "metadata": {},
   "outputs": [],
   "source": []
  },
  {
   "cell_type": "code",
   "execution_count": null,
   "metadata": {},
   "outputs": [],
   "source": []
  },
  {
   "cell_type": "code",
   "execution_count": null,
   "metadata": {},
   "outputs": [],
   "source": []
  },
  {
   "cell_type": "markdown",
   "metadata": {},
   "source": [
    "## Run"
   ]
  },
  {
   "cell_type": "code",
   "execution_count": 33,
   "metadata": {
    "ExecuteTime": {
     "end_time": "2020-05-30T19:23:04.661059Z",
     "start_time": "2020-05-30T19:18:35.100165Z"
    }
   },
   "outputs": [
    {
     "name": "stdout",
     "output_type": "stream",
     "text": [
      "im done in  38.281044006347656\n",
      "im done in  35.33965611457825\n",
      "im done in  31.986581087112427\n",
      "im done in  34.4723846912384\n",
      "im done in  32.94367289543152\n",
      "im done in  33.61117100715637\n",
      "im done in  31.43293809890747\n",
      "im done in  31.456133127212524\n"
     ]
    }
   ],
   "source": [
    "for seed in range(1,9):\n",
    "    \n",
    "    global L, q, J\n",
    "    L = 16\n",
    "    q = 4      # components\n",
    "    J = 1      # interaction energy\n",
    "\n",
    "    N_avg = 5000\n",
    "    N_mc = 10\n",
    "    Relax = 1000\n",
    "\n",
    "    np.random.seed(seed)\n",
    "    \n",
    "    tc = 1/(np.log(1+4**0.5)) # 0.9102392266268373\n",
    "    t_ = np.array([0.001, 0.002, 0.005, 0.01, 0.05, 0.1])\n",
    "    t_low = np.round(-t_*tc+tc, 3)  #low\n",
    "    t_high = np.round(t_*tc+tc, 3)\n",
    "    t = np.concatenate((t_low, t_high), axis=None)\n",
    "    t.sort()\n",
    "        \n",
    "    df_e,df_m =[pd.DataFrame() for i in range(2)]\n",
    "    st = time.time()\n",
    "    for ind,T in enumerate(t):\n",
    "        e,m = model_p4(T,N_avg,N_mc,Relax)\n",
    "        df_e.insert(ind,T,e, True)\n",
    "        df_m.insert(ind,T,m, True)\n",
    "    title = 'potts4_L'+str(L)+'_avg'+str(N_avg)+'_mc'+str(N_mc)+'_relax'+str(Relax)+'mc_'\n",
    "    df_e.to_csv('export/e_'+title+'seed'+str(seed)+'.csv', index = None, header=True)\n",
    "    df_m.to_csv('export/m_'+title+'seed'+str(seed)+'.csv', index = None, header=True)\n",
    "    print('im done in ',time.time()-st)"
   ]
  },
  {
   "cell_type": "code",
   "execution_count": 81,
   "metadata": {
    "ExecuteTime": {
     "end_time": "2020-06-01T19:51:51.632246Z",
     "start_time": "2020-06-01T19:51:47.403003Z"
    }
   },
   "outputs": [
    {
     "name": "stdout",
     "output_type": "stream",
     "text": [
      "5.2 ms ± 373 µs per loop (mean ± std. dev. of 7 runs, 100 loops each)\n"
     ]
    }
   ],
   "source": [
    "global L, q, J\n",
    "L = 100\n",
    "q = 4      # components\n",
    "J = 1      # interaction energy\n",
    "np.random.seed(1)\n",
    "s = gen_state(); nei = get_neigh()\n",
    "\n",
    "%timeit [mc_step(s, nei, 1) for _ in range(10)]"
   ]
  },
  {
   "cell_type": "code",
   "execution_count": 82,
   "metadata": {
    "ExecuteTime": {
     "end_time": "2020-06-01T19:51:54.538147Z",
     "start_time": "2020-06-01T19:51:54.451766Z"
    }
   },
   "outputs": [
    {
     "name": "stdout",
     "output_type": "stream",
     "text": [
      "-4959\n",
      "-14127\n"
     ]
    }
   ],
   "source": [
    "global L, q, J\n",
    "L = 100\n",
    "q = 4      # components\n",
    "J = 1      # interaction energy\n",
    "np.random.seed(1)\n",
    "s = gen_state(); nei = get_neigh()\n",
    "print(calc_e(s))\n",
    "\n",
    "for _ in range(10):\n",
    "    mc_step(s, nei, 0.1)\n",
    "print(calc_e(s))"
   ]
  },
  {
   "cell_type": "code",
   "execution_count": null,
   "metadata": {},
   "outputs": [],
   "source": [
    "# py v1 - 1.49 s ± 97.2 ms per loop (mean ± std. dev. of 7 runs, 1 loop each)    my origin\n",
    "# cy v0 - 2.05 s ± 47.5 ms per loop (mean ± std. dev. of 7 runs, 1 loop each)    tabulate neigh + cythonize(no random)\n",
    "# cy v1 - 379 ms ± 11.3 ms per loop (mean ± std. dev. of 7 runs, 1 loop each)    gen np.random array\n",
    "# cy v2 - 344 ms ± 14.8 ms per loop (mean ± std. dev. of 7 runs, 1 loop each)    cythonize gen random array\n",
    "# cy v3 - 5.05 ms ± 219 µs per loop (mean ± std. dev. of 7 runs, 100 loops each) pure cython random generator"
   ]
  },
  {
   "cell_type": "code",
   "execution_count": null,
   "metadata": {},
   "outputs": [],
   "source": []
  },
  {
   "cell_type": "code",
   "execution_count": null,
   "metadata": {},
   "outputs": [],
   "source": []
  }
 ],
 "metadata": {
  "kernelspec": {
   "display_name": "Python 3",
   "language": "python",
   "name": "python3"
  },
  "language_info": {
   "codemirror_mode": {
    "name": "ipython",
    "version": 3
   },
   "file_extension": ".py",
   "mimetype": "text/x-python",
   "name": "python",
   "nbconvert_exporter": "python",
   "pygments_lexer": "ipython3",
   "version": "3.5.2"
  },
  "toc": {
   "base_numbering": 1,
   "nav_menu": {},
   "number_sections": true,
   "sideBar": true,
   "skip_h1_title": false,
   "title_cell": "Table of Contents",
   "title_sidebar": "Contents",
   "toc_cell": false,
   "toc_position": {},
   "toc_section_display": true,
   "toc_window_display": false
  },
  "varInspector": {
   "cols": {
    "lenName": 16,
    "lenType": 16,
    "lenVar": 40
   },
   "kernels_config": {
    "python": {
     "delete_cmd_postfix": "",
     "delete_cmd_prefix": "del ",
     "library": "var_list.py",
     "varRefreshCmd": "print(var_dic_list())"
    },
    "r": {
     "delete_cmd_postfix": ") ",
     "delete_cmd_prefix": "rm(",
     "library": "var_list.r",
     "varRefreshCmd": "cat(var_dic_list()) "
    }
   },
   "types_to_exclude": [
    "module",
    "function",
    "builtin_function_or_method",
    "instance",
    "_Feature"
   ],
   "window_display": false
  }
 },
 "nbformat": 4,
 "nbformat_minor": 2
}
